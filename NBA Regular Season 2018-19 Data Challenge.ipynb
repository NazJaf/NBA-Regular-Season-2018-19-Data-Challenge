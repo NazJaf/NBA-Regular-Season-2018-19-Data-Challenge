{
 "cells": [
  {
   "cell_type": "markdown",
   "metadata": {},
   "source": [
    "# Nba Regular Season 2018-19 Data Challenge\n",
    "\n",
    "Your task will be to take the dataset given, and create an analysis answering the following 10 questions. This project will again test your knowledge of pandas in order to find the answers needed given the data you are presented with."
   ]
  },
  {
   "cell_type": "markdown",
   "metadata": {},
   "source": [
    "# What was the average age of player in the league?"
   ]
  },
  {
   "cell_type": "code",
   "execution_count": 2,
   "metadata": {},
   "outputs": [
    {
     "name": "stdout",
     "output_type": "stream",
     "text": [
      "Index(['Name', 'Height', 'Weight', 'Team', 'Age', 'Salary', 'Points', 'Blocks',\n",
      "       'Steals', 'Assists', 'Rebounds', 'FT%', 'FTA', 'FG3%', 'FG3A', 'FG%',\n",
      "       'FGA', 'MP', 'G', 'PER', 'OWS', 'DWS', 'WS', 'WS48', 'USG', 'BPM',\n",
      "       'VORP'],\n",
      "      dtype='object')\n",
      "The average age of players is: 25.90\n"
     ]
    }
   ],
   "source": [
    "import pandas as pd\n",
    "\n",
    "file_path = r'C:\\Users\\Zaur\\OneDrive\\Desktop\\Disk\\2023Nazrin\\Bootcamp_coding temple\\Python Advanced\\Python advanced_task\\NBA-regular season\\nbastats2018-2019 - nbastats2018-2019.csv'\n",
    "\n",
    "df = pd.read_csv(file_path)\n",
    "\n",
    "print(df.columns)\n",
    "average_age=df['Age'].mean()\n",
    "\n",
    "print(f\"The average age of players is: {average_age:.2f}\")\n",
    "\n"
   ]
  },
  {
   "cell_type": "markdown",
   "metadata": {},
   "source": [
    "# What player scored the most points?"
   ]
  },
  {
   "cell_type": "code",
   "execution_count": 3,
   "metadata": {},
   "outputs": [
    {
     "name": "stdout",
     "output_type": "stream",
     "text": [
      "Index(['Name', 'Height', 'Weight', 'Team', 'Age', 'Salary', 'Points', 'Blocks',\n",
      "       'Steals', 'Assists', 'Rebounds', 'FT%', 'FTA', 'FG3%', 'FG3A', 'FG%',\n",
      "       'FGA', 'MP', 'G', 'PER', 'OWS', 'DWS', 'WS', 'WS48', 'USG', 'BPM',\n",
      "       'VORP'],\n",
      "      dtype='object')\n",
      "Player who scored the most points: James Harden with 36.1 points\n"
     ]
    }
   ],
   "source": [
    "print(df.columns)\n",
    "top_scorer = df.loc[df['Points'].idxmax()]\n",
    "\n",
    "print(f\"Player who scored the most points: {top_scorer['Name']} with {top_scorer['Points']} points\")\n"
   ]
  },
  {
   "cell_type": "markdown",
   "metadata": {},
   "source": [
    "# What player had the most blocks during the season? Was it a post player (F/C)?\n"
   ]
  },
  {
   "cell_type": "code",
   "execution_count": 4,
   "metadata": {},
   "outputs": [
    {
     "name": "stdout",
     "output_type": "stream",
     "text": [
      "Player:Myles Turnerwith 2.7 \n"
     ]
    }
   ],
   "source": [
    "\n",
    "most_blocks_player = df.loc[df['Blocks'].idxmax()]\n",
    "print(f\"Player:{most_blocks_player['Name'] }with {most_blocks_player['Blocks']} \")"
   ]
  },
  {
   "cell_type": "markdown",
   "metadata": {},
   "source": [
    "# Based on the regular season, who had the best chance to win a title given their win percentage?"
   ]
  },
  {
   "cell_type": "code",
   "execution_count": null,
   "metadata": {},
   "outputs": [],
   "source": []
  },
  {
   "cell_type": "markdown",
   "metadata": {},
   "source": [
    "# What player had the best 3-pt percentage? "
   ]
  },
  {
   "cell_type": "code",
   "execution_count": 8,
   "metadata": {},
   "outputs": [
    {
     "data": {
      "text/plain": [
       "Name        Trevon Duval\n",
       "Height                74\n",
       "Weight               189\n",
       "Team                 NaN\n",
       "Age                   20\n",
       "Salary                 -\n",
       "Points               1.7\n",
       "Blocks               0.0\n",
       "Steals               0.0\n",
       "Assists              0.7\n",
       "Rebounds             0.3\n",
       "FT%                  NaN\n",
       "FTA                  0.0\n",
       "FG3%                 1.0\n",
       "FG3A                 0.3\n",
       "FG%                0.667\n",
       "FGA                  1.0\n",
       "MP                   2.0\n",
       "G                      3\n",
       "PER                 38.3\n",
       "OWS                  0.1\n",
       "DWS                  0.0\n",
       "WS                   0.1\n",
       "WS48               0.537\n",
       "USG                 20.9\n",
       "BPM                  9.7\n",
       "VORP                 0.0\n",
       "Name: 147, dtype: object"
      ]
     },
     "execution_count": 8,
     "metadata": {},
     "output_type": "execute_result"
    }
   ],
   "source": [
    "best_3pt_player = df.loc[df['FG3%'].idxmax()]\n",
    "best_3pt_player"
   ]
  },
  {
   "cell_type": "markdown",
   "metadata": {},
   "source": [
    "# Who played the most minutes during the season"
   ]
  },
  {
   "cell_type": "code",
   "execution_count": 6,
   "metadata": {},
   "outputs": [
    {
     "data": {
      "text/plain": [
       "Name              Bradley Beal\n",
       "Height                      77\n",
       "Weight                     207\n",
       "Team        Washington Wizards\n",
       "Age                         25\n",
       "Salary                25434263\n",
       "Points                    25.6\n",
       "Blocks                     0.7\n",
       "Steals                     1.5\n",
       "Assists                    5.5\n",
       "Rebounds                   5.0\n",
       "FT%                      0.808\n",
       "FTA                        5.5\n",
       "FG3%                     0.351\n",
       "FG3A                       7.3\n",
       "FG%                      0.475\n",
       "FGA                       19.6\n",
       "MP                        36.9\n",
       "G                           82\n",
       "PER                       20.8\n",
       "OWS                        5.9\n",
       "DWS                        1.7\n",
       "WS                         7.6\n",
       "WS48                      0.12\n",
       "USG                       28.4\n",
       "BPM                        2.8\n",
       "VORP                       3.7\n",
       "Name: 37, dtype: object"
      ]
     },
     "execution_count": 6,
     "metadata": {},
     "output_type": "execute_result"
    }
   ],
   "source": [
    "most_minutes_player = df.loc[df['MP'].idxmax()]\n",
    "most_minutes_player"
   ]
  },
  {
   "cell_type": "markdown",
   "metadata": {},
   "source": [
    "# What player given their player effiecency rating was the clutchest during the season?"
   ]
  },
  {
   "cell_type": "code",
   "execution_count": 7,
   "metadata": {},
   "outputs": [
    {
     "data": {
      "text/plain": [
       "Name                Zhou Qi\n",
       "Height                   85\n",
       "Weight                  210\n",
       "Team        Houston Rockets\n",
       "Age                      23\n",
       "Salary               506134\n",
       "Points                  2.0\n",
       "Blocks                  0.0\n",
       "Steals                  0.0\n",
       "Assists                 0.0\n",
       "Rebounds                0.0\n",
       "FT%                     NaN\n",
       "FTA                     0.0\n",
       "FG3%                    NaN\n",
       "FG3A                    0.0\n",
       "FG%                     1.0\n",
       "FGA                     1.0\n",
       "MP                      1.0\n",
       "G                         1\n",
       "PER                    80.4\n",
       "OWS                     0.0\n",
       "DWS                     0.0\n",
       "WS                      0.0\n",
       "WS48                  1.261\n",
       "USG                    43.4\n",
       "BPM                     9.5\n",
       "VORP                    0.0\n",
       "Name: 405, dtype: object"
      ]
     },
     "execution_count": 7,
     "metadata": {},
     "output_type": "execute_result"
    }
   ],
   "source": [
    "clutchest_player = df.loc[df['PER'].idxmax()]\n",
    "clutchest_player\n"
   ]
  },
  {
   "cell_type": "markdown",
   "metadata": {},
   "source": [
    "# What team had the youngest roster?"
   ]
  },
  {
   "cell_type": "code",
   "execution_count": 10,
   "metadata": {},
   "outputs": [
    {
     "data": {
      "text/plain": [
       "('Chicago Bulls', 24.3125)"
      ]
     },
     "execution_count": 10,
     "metadata": {},
     "output_type": "execute_result"
    }
   ],
   "source": [
    "average_age_by_team = df.groupby('Team')['Age'].mean()\n",
    "youngest_team = average_age_by_team.idxmin()\n",
    "youngest_team, average_age_by_team.loc[youngest_team]"
   ]
  },
  {
   "cell_type": "markdown",
   "metadata": {},
   "source": [
    "# Who is the highest paid player during the seasion?"
   ]
  },
  {
   "cell_type": "code",
   "execution_count": 31,
   "metadata": {},
   "outputs": [],
   "source": [
    "\n",
    "# df['Salary'] = df['Salary'].str.replace('_', '').str.replace(',', '').astype(float)\n",
    "# highest_paid_player = df.loc[df['Salary'].idxmax()]\n",
    "# highest_paid_player\n"
   ]
  },
  {
   "cell_type": "markdown",
   "metadata": {},
   "source": [
    "# At the end of a game, who WOULDN'T you want on the Free Throw Line?"
   ]
  },
  {
   "cell_type": "code",
   "execution_count": 20,
   "metadata": {},
   "outputs": [
    {
     "data": {
      "text/plain": [
       "Name                  Jacob Evans\n",
       "Height                         78\n",
       "Weight                        210\n",
       "Team        Golden State Warriors\n",
       "Age                            21\n",
       "Salary                    1644240\n",
       "Points                        1.3\n",
       "Blocks                        0.1\n",
       "Steals                        0.2\n",
       "Assists                       0.8\n",
       "Rebounds                      0.8\n",
       "FT%                           0.0\n",
       "FTA                           0.0\n",
       "FG3%                        0.267\n",
       "FG3A                          0.5\n",
       "FG%                          0.34\n",
       "FGA                           1.8\n",
       "MP                            6.8\n",
       "G                              30\n",
       "PER                           3.5\n",
       "OWS                          -0.3\n",
       "DWS                           0.2\n",
       "WS                           -0.1\n",
       "WS48                        -0.03\n",
       "USG                          13.5\n",
       "BPM                          -6.9\n",
       "VORP                         -0.3\n",
       "Name: 154, dtype: object"
      ]
     },
     "execution_count": 20,
     "metadata": {},
     "output_type": "execute_result"
    }
   ],
   "source": [
    "worst_ft_player = df.loc[df['FT%'].idxmin()]\n",
    "worst_ft_player"
   ]
  }
 ],
 "metadata": {
  "kernelspec": {
   "display_name": "Python 3",
   "language": "python",
   "name": "python3"
  },
  "language_info": {
   "codemirror_mode": {
    "name": "ipython",
    "version": 3
   },
   "file_extension": ".py",
   "mimetype": "text/x-python",
   "name": "python",
   "nbconvert_exporter": "python",
   "pygments_lexer": "ipython3",
   "version": "3.9.13"
  }
 },
 "nbformat": 4,
 "nbformat_minor": 2
}
